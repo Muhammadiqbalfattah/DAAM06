{
  "nbformat": 4,
  "nbformat_minor": 0,
  "metadata": {
    "colab": {
      "provenance": []
    },
    "kernelspec": {
      "name": "python3",
      "display_name": "Python 3"
    },
    "language_info": {
      "name": "python"
    }
  },
  "cells": [
    {
      "cell_type": "code",
      "execution_count": 13,
      "metadata": {
        "colab": {
          "base_uri": "https://localhost:8080/"
        },
        "id": "_z40GlYpon4z",
        "outputId": "5957a2e6-b3c8-40d6-bd71-2369cc0ec4c3"
      },
      "outputs": [
        {
          "name": "stdout",
          "output_type": "stream",
          "text": [
            "How many terms? 3\n"
          ]
        }
      ],
      "source": [
        "#Latihan 1\n",
        "nterm = int(input(\"How many terms? \"))\n",
        "n1 = 0\n",
        "n2 = 1\n",
        "count = 0"
      ]
    },
    {
      "cell_type": "code",
      "source": [
        "if nterm <= 0:\n",
        "  print (\"Please enter a positive Integer\")\n",
        "elif nterm == 1:\n",
        "  print(\"Fibonacci Sequence upto\", nterm, \":\")\n",
        "  print(n1)\n",
        "else:\n",
        "  print(\"Fibonacci Sequence : \")\n",
        "  while count < nterm:\n",
        "    print(n1)\n",
        "    nth = n1+n2\n",
        "    n1 = n2\n",
        "    n2 = nth\n",
        "    count += 1\n"
      ],
      "metadata": {
        "colab": {
          "base_uri": "https://localhost:8080/"
        },
        "id": "FfP6gWIpox69",
        "outputId": "2178646f-e911-43b3-b7d9-479f90ec0115"
      },
      "execution_count": 14,
      "outputs": [
        {
          "output_type": "stream",
          "name": "stdout",
          "text": [
            "Fibonacci Sequence : \n",
            "0\n",
            "1\n",
            "1\n"
          ]
        }
      ]
    },
    {
      "cell_type": "code",
      "source": [
        "#Latihan 2\n",
        "nterm = int(input(\"Masukin angka buru :  \"))\n",
        "def recur_fibo(n):\n",
        "  if n <= 1:\n",
        "      return n\n",
        "  else:\n",
        "      return(recur_fibo(n-1) + recur_fibo(n-2))\n",
        "if nterm <= 0:\n",
        "  print(\"Masukin nilai positif ! \")\n",
        "else:\n",
        "  print(\"Fibonacci Sequence : \")\n",
        "  for i in range(nterm):\n",
        "    print(recur_fibo(i))\n",
        "\n"
      ],
      "metadata": {
        "colab": {
          "base_uri": "https://localhost:8080/"
        },
        "id": "iUCVPLPmpCrm",
        "outputId": "3c6eee78-6e16-4aa2-dab6-1e2911d47097"
      },
      "execution_count": 17,
      "outputs": [
        {
          "output_type": "stream",
          "name": "stdout",
          "text": [
            "Masukin angka buru :  3\n",
            "Fibonacci Sequence : \n",
            "0\n",
            "1\n",
            "1\n"
          ]
        }
      ]
    },
    {
      "cell_type": "code",
      "source": [
        "#Latihan 3 (Rekursi)\n",
        "nterm = int(input(\"Masukin angka nterm buru :  \"))\n",
        "def recur_fibo(n):\n",
        "  if n <= 1:\n",
        "      return n\n",
        "  else:\n",
        "      return(recur_fibo(n-1) + recur_fibo(n-2))\n",
        "if nterm <= 0:\n",
        "  print(\"Masukin nilai positif ! \")\n",
        "else:\n",
        "  print(\"Fibonacci Sequence : \")\n",
        "  for i in range(nterm):\n",
        "    print(recur_fibo(i))\n"
      ],
      "metadata": {
        "colab": {
          "base_uri": "https://localhost:8080/"
        },
        "id": "iKbsi2LZvAul",
        "outputId": "9b7ba4d9-7bcc-4c33-cb78-54e8dd4a8b45"
      },
      "execution_count": 25,
      "outputs": [
        {
          "output_type": "stream",
          "name": "stdout",
          "text": [
            "Masukin angka nterm buru :  30\n",
            "Fibonacci Sequence : \n",
            "0\n",
            "1\n",
            "1\n",
            "2\n",
            "3\n",
            "5\n",
            "8\n",
            "13\n",
            "21\n",
            "34\n",
            "55\n",
            "89\n",
            "144\n",
            "233\n",
            "377\n",
            "610\n",
            "987\n",
            "1597\n",
            "2584\n",
            "4181\n",
            "6765\n",
            "10946\n",
            "17711\n",
            "28657\n",
            "46368\n",
            "75025\n",
            "121393\n",
            "196418\n",
            "317811\n",
            "514229\n"
          ]
        }
      ]
    },
    {
      "cell_type": "code",
      "source": [
        "#Latihan 4 (Algo Greedy)\n",
        "import random\n",
        "from itertools import permutations\n",
        "alltours = permutations\n",
        "\n",
        "def distance_tour(aTour):\n",
        "  return sum(distance_points(aTour[i -1], aTour[1])\n",
        "  for i in range(len(aTour)))\n",
        "\n",
        "  aCity = complex\n",
        "\n",
        "def distance_points(first, second):\n",
        "    return abs(first - second)\n",
        "\n",
        "def generate_cities (number_of_cities):\n",
        "    seed = 111; width = 500; heigt = 300\n",
        "    random.seed((number_of_cities,seed))\n",
        "    return frozenset(aCity (random.randint(1,width), random.randint(1, heigt))\n",
        "        for c in range(number_of_cities))\n",
        "\n"
      ],
      "metadata": {
        "id": "77QuucfPvOPQ"
      },
      "execution_count": 44,
      "outputs": []
    },
    {
      "cell_type": "code",
      "source": [
        "%matplotlib inline\n",
        "import matplotlib.pyplot as plt\n",
        "def visualize_tour(tour, style='bo-'):\n",
        "  if len(tour) > 1000: plt.figure(figsize=(15,10))\n",
        "  start = tour[0:1]\n",
        "  visualize_segment(tour + start, style)\n",
        "  visualize_segment(start, 'rD')\n",
        "def visualize_segment( segment, style='bo-'):\n",
        "        plt.plot([X/(c) for c in segment], [Y/(c) for c in segment], style, clip_on=False)\n",
        "        plt.axis ('scaled')\n",
        "        plt.axis ('off')\n",
        "def X(city) : \" X axis\"; return city.real\n",
        "def Y(city) : \" Y axis\"; return city.imag\n",
        "\n"
      ],
      "metadata": {
        "id": "0cmXPNvF1D4S"
      },
      "execution_count": 45,
      "outputs": []
    },
    {
      "cell_type": "code",
      "source": [
        "from time import process_time\n",
        "from collections import Counter\n",
        "def tsp(algorithm, cities):\n",
        "  t0 = process_time()\n",
        "  tour = algorithm(cities)\n",
        "  t1 = process_time()\n",
        "  assert Counter(tour) == Counter(cities)\n",
        "  visualize_tour(tour)\n",
        "  print(\"{} : {} cities => tour length {:.0f}{in{:.3f} sec)\".format(name(algorithm), len(tour), distance_tour(tour), t1-t0))\n",
        "  def name(algorithm): return algorithm._name_.replace('_tsp', '')"
      ],
      "metadata": {
        "id": "d6Vp03D740Dg"
      },
      "execution_count": 46,
      "outputs": []
    },
    {
      "cell_type": "code",
      "source": [
        "def greedy_algorithm(cities,start = None):\n",
        "  C = start or first(cities)\n",
        "  tour = [C]\n",
        "  unvisited = set(cities - {C})\n",
        "  while unvisited:\n",
        "    C = nearest_neighbor(C, unvisited)\n",
        "    tour.append(C)\n",
        "    unvisited.remove(C)\n",
        "    return tour\n",
        "\n",
        "def first (collection): return next (iter(collection))\n",
        "def nearest_neighbor(A,cities):\n",
        "    return min(cities, key=lambda C: distance_points(C,A))\n",
        "    tsp(greedy_algorithm, generate_cities(2000))\n",
        "\n"
      ],
      "metadata": {
        "id": "bLPpqPOU7TeG"
      },
      "execution_count": 55,
      "outputs": []
    },
    {
      "cell_type": "code",
      "source": [
        "#latihan 5 (huffman)\n",
        "string = 'BCAADDDCCACACAC'\n",
        "\n",
        "class NodeTree(object):\n",
        "  def __init__(self, left=None, right=None):\n",
        "      self.left = left\n",
        "      self.right = right\n",
        "  def children(self):\n",
        "      return (self.left,self.right)\n",
        "  def nodes(self):\n",
        "      return (self.left,self.right)\n",
        "  def __str__(self):\n",
        "      return '%s_%s' % (self.left, self.right)"
      ],
      "metadata": {
        "id": "fbGKXgtm-Ilf"
      },
      "execution_count": 56,
      "outputs": []
    },
    {
      "cell_type": "code",
      "source": [
        "def huffman_code_tree(node,left=True,binString =''):\n",
        "  if type(node) is str:\n",
        "    return {node: binString}\n",
        "  (l,r) = node.children()\n",
        "  d = dict()\n",
        "  d.update(huffman_code_tree(1, True, binString + '0'))\n",
        "  d.update(huffman_code_tree(r, False, binString + '1'))\n",
        "  return d\n"
      ],
      "metadata": {
        "id": "FwepCZ9YCUtC"
      },
      "execution_count": 61,
      "outputs": []
    },
    {
      "cell_type": "code",
      "source": [
        "freq = {}\n",
        "for c in string:\n",
        "  if c in freq:\n",
        "    freq[c] += 1\n",
        "  else:\n",
        "    freq[c] = 1\n",
        "  freq = sorted(freq.items(), key = lambda x: x[1], reverse= True)\n",
        "  nodes = freq\n",
        "while len(nodes) > 1:\n",
        "    (key1, c1) = nodes[-1]\n",
        "    (key2, c2) = nodes[-2]\n",
        "    nodes = nodes[:-2]\n",
        "    node = NodeTree(key1,key2)\n",
        "    nodes.append((node,c1+c2))\n",
        "\n",
        "    nodes = sorted(nodes, key=lambda x: x[1], reverse = True)\n",
        "\n",
        "huffmanCode = huffman_code_tree(nodes[0][0])\n",
        "\n",
        "print('Char | Huffman Code ')\n",
        "print('--------------------')\n",
        "for (char,frequency) in freq:\n",
        "  print(' %-4r | %12s' % (char, huffmanCode[char]))"
      ],
      "metadata": {
        "id": "BTe_IgZKKb2J"
      },
      "execution_count": null,
      "outputs": []
    },
    {
      "cell_type": "code",
      "source": [
        "from pygments.token import String\n",
        "#Latihan 7 \n",
        "string = str(input(\"Masukkan String  :  \"))\n",
        "class NodeTree(object):\n",
        "  def __init__(self, left=None, right=None):\n",
        "      self.left = left\n",
        "      self.right = right\n",
        "  def children(self):\n",
        "      return (self.left,self.right)\n",
        "  def nodes(self):\n",
        "      return (self.left,self.right)\n",
        "  def __str__(self):\n",
        "      return '%s_%s' % (self.left, self.right)"
      ],
      "metadata": {
        "colab": {
          "base_uri": "https://localhost:8080/"
        },
        "id": "Q8UiFuU1Pn78",
        "outputId": "7bf887a1-1b87-48ec-a84d-4e6c433d0d66"
      },
      "execution_count": 69,
      "outputs": [
        {
          "name": "stdout",
          "output_type": "stream",
          "text": [
            "Masukkan String  :  wkwkwkwk\n"
          ]
        }
      ]
    },
    {
      "cell_type": "code",
      "source": [
        " def huffman_code_tree(node,left=True,binString =''):\n",
        "  if type(node) is str:\n",
        "    return {node: binString}\n",
        "  (l,r) = node.children()\n",
        "  d = dict()\n",
        "  d.update(huffman_code_tree(1, True, binString + '0'))\n",
        "  d.update(huffman_code_tree(r, False, binString + '1'))\n",
        "  return d"
      ],
      "metadata": {
        "id": "IXSziLWOQjtd"
      },
      "execution_count": 70,
      "outputs": []
    },
    {
      "cell_type": "code",
      "source": [
        "freq = {}\n",
        "for c in string:\n",
        "    if c in freq:\n",
        "        freq[c] += 1\n",
        "    else:\n",
        "        freq[c] = 1\n",
        "\n",
        "freq = sorted(freq.items(), key=lambda x: x[1], reverse=True)\n",
        "\n",
        "nodes = freq\n",
        "\n",
        "while len(nodes) > 1:\n",
        "    (key1, c1) = nodes[-1]\n",
        "    (key2, c2) = nodes[-2]\n",
        "    nodes = nodes[:-2]\n",
        "    node = NodeTree(key1, key2)\n",
        "    nodes.append((node, c1+c2))\n",
        "    \n",
        "    nodes = sorted(nodes, key =lambda x: x[1], reverse=True)\n",
        "\n",
        "huffmanCode = huffman_code_tree(nodes[0][0])    \n",
        "\n",
        "print(' Char | Huffman code ')\n",
        "print('---------------------')\n",
        "for (char, frequency) in freq:\n",
        "     print(' %-4r |%12s' % (char, huffmanCode[char]))"
      ],
      "metadata": {
        "colab": {
          "base_uri": "https://localhost:8080/",
          "height": 381
        },
        "id": "Y8SV7PbMRObp",
        "outputId": "434817ba-5efa-47ba-b103-1930ee4617b5"
      },
      "execution_count": 71,
      "outputs": [
        {
          "output_type": "error",
          "ename": "AttributeError",
          "evalue": "ignored",
          "traceback": [
            "\u001b[0;31m---------------------------------------------------------------------------\u001b[0m",
            "\u001b[0;31mAttributeError\u001b[0m                            Traceback (most recent call last)",
            "\u001b[0;32m<ipython-input-71-3914d4917bfa>\u001b[0m in \u001b[0;36m<module>\u001b[0;34m\u001b[0m\n\u001b[1;32m     19\u001b[0m     \u001b[0mnodes\u001b[0m \u001b[0;34m=\u001b[0m \u001b[0msorted\u001b[0m\u001b[0;34m(\u001b[0m\u001b[0mnodes\u001b[0m\u001b[0;34m,\u001b[0m \u001b[0mkey\u001b[0m \u001b[0;34m=\u001b[0m\u001b[0;32mlambda\u001b[0m \u001b[0mx\u001b[0m\u001b[0;34m:\u001b[0m \u001b[0mx\u001b[0m\u001b[0;34m[\u001b[0m\u001b[0;36m1\u001b[0m\u001b[0;34m]\u001b[0m\u001b[0;34m,\u001b[0m \u001b[0mreverse\u001b[0m\u001b[0;34m=\u001b[0m\u001b[0;32mTrue\u001b[0m\u001b[0;34m)\u001b[0m\u001b[0;34m\u001b[0m\u001b[0;34m\u001b[0m\u001b[0m\n\u001b[1;32m     20\u001b[0m \u001b[0;34m\u001b[0m\u001b[0m\n\u001b[0;32m---> 21\u001b[0;31m \u001b[0mhuffmanCode\u001b[0m \u001b[0;34m=\u001b[0m \u001b[0mhuffman_code_tree\u001b[0m\u001b[0;34m(\u001b[0m\u001b[0mnodes\u001b[0m\u001b[0;34m[\u001b[0m\u001b[0;36m0\u001b[0m\u001b[0;34m]\u001b[0m\u001b[0;34m[\u001b[0m\u001b[0;36m0\u001b[0m\u001b[0;34m]\u001b[0m\u001b[0;34m)\u001b[0m\u001b[0;34m\u001b[0m\u001b[0;34m\u001b[0m\u001b[0m\n\u001b[0m\u001b[1;32m     22\u001b[0m \u001b[0;34m\u001b[0m\u001b[0m\n\u001b[1;32m     23\u001b[0m \u001b[0mprint\u001b[0m\u001b[0;34m(\u001b[0m\u001b[0;34m' Char | Huffman code '\u001b[0m\u001b[0;34m)\u001b[0m\u001b[0;34m\u001b[0m\u001b[0;34m\u001b[0m\u001b[0m\n",
            "\u001b[0;32m<ipython-input-70-b190e32b3510>\u001b[0m in \u001b[0;36mhuffman_code_tree\u001b[0;34m(node, left, binString)\u001b[0m\n\u001b[1;32m      4\u001b[0m  \u001b[0;34m(\u001b[0m\u001b[0ml\u001b[0m\u001b[0;34m,\u001b[0m\u001b[0mr\u001b[0m\u001b[0;34m)\u001b[0m \u001b[0;34m=\u001b[0m \u001b[0mnode\u001b[0m\u001b[0;34m.\u001b[0m\u001b[0mchildren\u001b[0m\u001b[0;34m(\u001b[0m\u001b[0;34m)\u001b[0m\u001b[0;34m\u001b[0m\u001b[0;34m\u001b[0m\u001b[0m\n\u001b[1;32m      5\u001b[0m  \u001b[0md\u001b[0m \u001b[0;34m=\u001b[0m \u001b[0mdict\u001b[0m\u001b[0;34m(\u001b[0m\u001b[0;34m)\u001b[0m\u001b[0;34m\u001b[0m\u001b[0;34m\u001b[0m\u001b[0m\n\u001b[0;32m----> 6\u001b[0;31m  \u001b[0md\u001b[0m\u001b[0;34m.\u001b[0m\u001b[0mupdate\u001b[0m\u001b[0;34m(\u001b[0m\u001b[0mhuffman_code_tree\u001b[0m\u001b[0;34m(\u001b[0m\u001b[0;36m1\u001b[0m\u001b[0;34m,\u001b[0m \u001b[0;32mTrue\u001b[0m\u001b[0;34m,\u001b[0m \u001b[0mbinString\u001b[0m \u001b[0;34m+\u001b[0m \u001b[0;34m'0'\u001b[0m\u001b[0;34m)\u001b[0m\u001b[0;34m)\u001b[0m\u001b[0;34m\u001b[0m\u001b[0;34m\u001b[0m\u001b[0m\n\u001b[0m\u001b[1;32m      7\u001b[0m  \u001b[0md\u001b[0m\u001b[0;34m.\u001b[0m\u001b[0mupdate\u001b[0m\u001b[0;34m(\u001b[0m\u001b[0mhuffman_code_tree\u001b[0m\u001b[0;34m(\u001b[0m\u001b[0mr\u001b[0m\u001b[0;34m,\u001b[0m \u001b[0;32mFalse\u001b[0m\u001b[0;34m,\u001b[0m \u001b[0mbinString\u001b[0m \u001b[0;34m+\u001b[0m \u001b[0;34m'1'\u001b[0m\u001b[0;34m)\u001b[0m\u001b[0;34m)\u001b[0m\u001b[0;34m\u001b[0m\u001b[0;34m\u001b[0m\u001b[0m\n\u001b[1;32m      8\u001b[0m  \u001b[0;32mreturn\u001b[0m \u001b[0md\u001b[0m\u001b[0;34m\u001b[0m\u001b[0;34m\u001b[0m\u001b[0m\n",
            "\u001b[0;32m<ipython-input-70-b190e32b3510>\u001b[0m in \u001b[0;36mhuffman_code_tree\u001b[0;34m(node, left, binString)\u001b[0m\n\u001b[1;32m      2\u001b[0m  \u001b[0;32mif\u001b[0m \u001b[0mtype\u001b[0m\u001b[0;34m(\u001b[0m\u001b[0mnode\u001b[0m\u001b[0;34m)\u001b[0m \u001b[0;32mis\u001b[0m \u001b[0mstr\u001b[0m\u001b[0;34m:\u001b[0m\u001b[0;34m\u001b[0m\u001b[0;34m\u001b[0m\u001b[0m\n\u001b[1;32m      3\u001b[0m    \u001b[0;32mreturn\u001b[0m \u001b[0;34m{\u001b[0m\u001b[0mnode\u001b[0m\u001b[0;34m:\u001b[0m \u001b[0mbinString\u001b[0m\u001b[0;34m}\u001b[0m\u001b[0;34m\u001b[0m\u001b[0;34m\u001b[0m\u001b[0m\n\u001b[0;32m----> 4\u001b[0;31m  \u001b[0;34m(\u001b[0m\u001b[0ml\u001b[0m\u001b[0;34m,\u001b[0m\u001b[0mr\u001b[0m\u001b[0;34m)\u001b[0m \u001b[0;34m=\u001b[0m \u001b[0mnode\u001b[0m\u001b[0;34m.\u001b[0m\u001b[0mchildren\u001b[0m\u001b[0;34m(\u001b[0m\u001b[0;34m)\u001b[0m\u001b[0;34m\u001b[0m\u001b[0;34m\u001b[0m\u001b[0m\n\u001b[0m\u001b[1;32m      5\u001b[0m  \u001b[0md\u001b[0m \u001b[0;34m=\u001b[0m \u001b[0mdict\u001b[0m\u001b[0;34m(\u001b[0m\u001b[0;34m)\u001b[0m\u001b[0;34m\u001b[0m\u001b[0;34m\u001b[0m\u001b[0m\n\u001b[1;32m      6\u001b[0m  \u001b[0md\u001b[0m\u001b[0;34m.\u001b[0m\u001b[0mupdate\u001b[0m\u001b[0;34m(\u001b[0m\u001b[0mhuffman_code_tree\u001b[0m\u001b[0;34m(\u001b[0m\u001b[0;36m1\u001b[0m\u001b[0;34m,\u001b[0m \u001b[0;32mTrue\u001b[0m\u001b[0;34m,\u001b[0m \u001b[0mbinString\u001b[0m \u001b[0;34m+\u001b[0m \u001b[0;34m'0'\u001b[0m\u001b[0;34m)\u001b[0m\u001b[0;34m)\u001b[0m\u001b[0;34m\u001b[0m\u001b[0;34m\u001b[0m\u001b[0m\n",
            "\u001b[0;31mAttributeError\u001b[0m: 'int' object has no attribute 'children'"
          ]
        }
      ]
    },
    {
      "cell_type": "code",
      "source": [],
      "metadata": {
        "id": "kElssyQxT4-F"
      },
      "execution_count": null,
      "outputs": []
    }
  ]
}